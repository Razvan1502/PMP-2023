{
 "cells": [
  {
   "cell_type": "code",
   "execution_count": null,
   "outputs": [],
   "source": [
    "import matplotlib.pyplot as plt\n",
    "import numpy as np\n",
    "import pandas as pd\n",
    "import pymc as pm\n",
    "import arviz as az"
   ],
   "metadata": {
    "collapsed": false
   }
  },
  {
   "cell_type": "code",
   "execution_count": null,
   "outputs": [],
   "source": [
    "admissions = pd.read_csv(\"Admission.csv\")\n",
    "\n",
    "y = admissions[\"Admission\"]\n",
    "print(len(y[y==1]),len(y[y==0])) #date nebalansate\n",
    "Index = np.random.choice(np.flatnonzero(y==0), size=len(y[y==0])-len(y[y==1]), replace=False) #pentru a balansa datele, alegem la intamplare indici pentru a fi stersi\n",
    "admissions = admissions.drop(labels=Index)\n",
    "y = admissions[\"Admission\"]\n",
    "x_GRE = admissions[\"GRE\"].values\n",
    "x_GPA = admissions[\"GPA\"].values\n",
    "x_GRE_mean = x_GRE.mean()\n",
    "x_GRE_std = x_GRE.std()\n",
    "x_GPA_mean = x_GPA.mean()\n",
    "x_GPA_std = x_GPA.std()\n",
    "#standardizam datele:\n",
    "x_GRE = (x_GRE-x_GRE_mean)/x_GRE_std\n",
    "x_GPA = (x_GPA-x_GPA_mean)/x_GPA_std\n",
    "X = np.column_stack((x_GRE,x_GPA))"
   ],
   "metadata": {
    "collapsed": false
   }
  },
  {
   "cell_type": "markdown",
   "metadata": {},
   "source": [
    "**1.**"
   ]
  },
  {
   "cell_type": "code",
   "execution_count": null,
   "outputs": [],
   "source": [
    "with pm.Model() as adm_model:\n",
    "    alpha = pm.Normal(\"alpha\", mu=0, sigma=10)\n",
    "    beta = pm.Normal(\"beta\", mu=0, sigma=1, shape = 2)\n",
    "    X_shared = pm.MutableData('x_shared',X) #pentru pct. 3 si 4\n",
    "    mu = pm.Deterministic('μ',alpha + pm.math.dot(X_shared, beta))\n",
    "    theta = pm.Deterministic(\"theta\", pm.math.sigmoid(mu))\n",
    "    bd = pm.Deterministic(\"bd\", -alpha/beta[1] - beta[0]/beta[1] * x_GRE)\n",
    "    y_pred = pm.Bernoulli(\"y_pred\", p=theta, observed=y)\n",
    "    idata = pm.sample(2000, return_inferencedata = True)"
   ],
   "metadata": {
    "collapsed": false
   }
  },
  {
   "cell_type": "markdown",
   "metadata": {},
   "source": [
    "**2.**"
   ]
  },
  {
   "cell_type": "code",
   "execution_count": null,
   "outputs": [],
   "source": [
    "idx = np.argsort(x_GRE)\n",
    "bd = idata.posterior[\"bd\"].mean((\"chain\", \"draw\"))[idx]\n",
    "plt.scatter(x_GRE, x_GPA, c=[f\"C{x}\" for x in y])\n",
    "plt.xlabel(\"GRE\")\n",
    "plt.ylabel(\"GPA\")"
   ],
   "metadata": {
    "collapsed": false
   }
  },
  {
   "cell_type": "code",
   "execution_count": null,
   "outputs": [],
   "source": [
    "idx = np.argsort(x_GRE)\n",
    "bd = idata.posterior[\"bd\"].mean((\"chain\", \"draw\"))[idx]\n",
    "plt.scatter(x_GRE, x_GPA, c=[f\"C{x}\" for x in y])\n",
    "plt.plot(x_GRE[idx], bd, color = 'k')\n",
    "az.plot_hdi(x_GRE, idata.posterior[\"bd\"], color ='k')\n",
    "plt.xlabel(\"GRE\")\n",
    "plt.ylabel(\"GPA\")"
   ],
   "metadata": {
    "collapsed": false
   }
  },
  {
   "cell_type": "markdown",
   "metadata": {},
   "source": [
    "**3. Var. 1.**"
   ]
  },
  {
   "cell_type": "code",
   "execution_count": null,
   "outputs": [],
   "source": [
    "obs_std1 = [(550-x_GRE_mean)/x_GRE_std,(3.5-x_GPA_mean)/x_GPA_std] #standardizam datele\n",
    "sigmoid = lambda x: 1 / (1 + np.exp(-x)) \n",
    "posterior_g = idata.posterior.stack(samples={\"chain\", \"draw\"})\n",
    "mu = posterior_g['alpha'] + posterior_g['beta'][0]*obs_std1[0] + posterior_g['beta'][1]*obs_std1[1]\n",
    "theta = sigmoid(mu)\n",
    "az.plot_posterior(theta.values, hdi_prob=0.9)"
   ],
   "metadata": {
    "collapsed": false
   }
  },
  {
   "cell_type": "markdown",
   "metadata": {},
   "source": [
    "**Var. 2.**"
   ]
  },
  {
   "cell_type": "code",
   "execution_count": null,
   "outputs": [],
   "source": [
    "pm.set_data({\"x_shared\":[obs_std1]}, model=adm_model)\n",
    "ppc = pm.sample_posterior_predictive(idata, model=adm_model,var_names=[\"theta\"])\n",
    "y_ppc = ppc.posterior_predictive['theta'].stack(sample=(\"chain\", \"draw\")).values\n",
    "az.plot_posterior(y_ppc,hdi_prob=0.9)"
   ],
   "metadata": {
    "collapsed": false
   }
  },
  {
   "cell_type": "markdown",
   "metadata": {},
   "source": [
    "**4.**"
   ]
  },
  {
   "cell_type": "code",
   "execution_count": null,
   "outputs": [],
   "source": [
    "obs_std2 = [(500-x_GRE_mean)/x_GRE_std,(3.2-x_GPA_mean)/x_GPA_std]\n",
    "pm.set_data({\"x_shared\":[obs_std2]}, model=adm_model)\n",
    "ppc = pm.sample_posterior_predictive(idata, model=adm_model,var_names=[\"theta\"])\n",
    "y_ppc = ppc.posterior_predictive['theta'].stack(sample=(\"chain\", \"draw\")).values\n",
    "az.plot_posterior(y_ppc,hdi_prob=0.9)"
   ],
   "metadata": {
    "collapsed": false
   }
  },
  {
   "cell_type": "code",
   "execution_count": null,
   "outputs": [],
   "source": [
    "print(obs_std1)\n",
    "print(obs_std2)"
   ],
   "metadata": {
    "collapsed": false
   }
  },
  {
   "cell_type": "markdown",
   "metadata": {},
   "source": [
    "Observăm că punctul obs_std1 este mai apropiat de frontiera de decizie față de obs_std2, ceea ce explică gradul mai mic de incertitudine (39% față de 47% în medie) pentru apartenența la o clasă a acestuia din urmă."
   ]
  },
  {
   "cell_type": "code",
   "execution_count": null,
   "outputs": [],
   "source": [
    "idx = np.argsort(x_GRE)\n",
    "bd = idata.posterior[\"bd\"].mean((\"chain\", \"draw\"))[idx]\n",
    "plt.scatter(x_GRE, x_GPA, c=[f\"C{x}\" for x in y])\n",
    "plt.plot(x_GRE[idx], bd, color = 'k')\n",
    "plt.scatter(obs_std1[0], obs_std1[1], color = 'g', label= 'obs_std1')\n",
    "plt.scatter(obs_std2[0], obs_std2[1], color = 'm', label= 'obs_std2')\n",
    "plt.legend()\n",
    "#az.plot_hdi(x_GRE, idata.posterior[\"bd\"], color ='k')\n",
    "plt.xlabel(\"GRE\")\n",
    "plt.ylabel(\"GPA\")"
   ],
   "metadata": {
    "collapsed": false
   }
  }
 ],
 "metadata": {
  "kernelspec": {
   "display_name": "pmp",
   "language": "python",
   "name": "python3"
  },
  "language_info": {
   "codemirror_mode": {
    "name": "ipython",
    "version": 3
   },
   "file_extension": ".py",
   "mimetype": "text/x-python",
   "name": "python",
   "nbconvert_exporter": "python",
   "pygments_lexer": "ipython3",
   "version": "3.11.4"
  },
  "vscode": {
   "interpreter": {
    "hash": "fbc2011838e6db271da9aa199b1c83301300f528d592ccdf08835253ac58132d"
   }
  }
 },
 "nbformat": 4,
 "nbformat_minor": 1
}
